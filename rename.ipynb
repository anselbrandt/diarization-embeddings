{
 "cells": [
  {
   "cell_type": "code",
   "execution_count": 2,
   "metadata": {},
   "outputs": [],
   "source": [
    "import os\n",
    "\n",
    "\n",
    "root = os.getcwd()\n",
    "input_dir = os.path.join(root, \"mono\")\n",
    "dirs = [\n",
    "    os.path.join(input_dir, dir)\n",
    "    for dir in os.listdir(input_dir)\n",
    "    if os.path.isdir(os.path.join(input_dir, dir))\n",
    "]\n",
    "files = [\n",
    "    (dir, file)\n",
    "    for dir in dirs\n",
    "    for file in os.listdir(dir)\n",
    "    if os.path.isfile(os.path.join(dir, file))\n",
    "    if \".DS_Store\" not in file\n",
    "]\n",
    "\n",
    "renamed = [\n",
    "    (\n",
    "        os.path.join(dir, file),\n",
    "        os.path.join(\n",
    "            dir,\n",
    "            file.replace(\" \", \"_\")\n",
    "            .replace(\"..\", \".\")\n",
    "            .replace(\"._\", \"_\")\n",
    "            .replace(\"!\", \"\"),\n",
    "        ),\n",
    "    )\n",
    "    for dir, file in files\n",
    "]\n",
    "\n",
    "for file in renamed:\n",
    "    currName, newName = file\n",
    "    os.rename(currName, newName)"
   ]
  }
 ],
 "metadata": {
  "kernelspec": {
   "display_name": "Python 3",
   "language": "python",
   "name": "python3"
  },
  "language_info": {
   "codemirror_mode": {
    "name": "ipython",
    "version": 3
   },
   "file_extension": ".py",
   "mimetype": "text/x-python",
   "name": "python",
   "nbconvert_exporter": "python",
   "pygments_lexer": "ipython3",
   "version": "3.12.3"
  }
 },
 "nbformat": 4,
 "nbformat_minor": 2
}
