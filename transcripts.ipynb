{
 "cells": [
  {
   "cell_type": "code",
   "execution_count": 21,
   "metadata": {},
   "outputs": [],
   "source": [
    "import os\n",
    "import torchaudio\n",
    "from datetime import timedelta\n",
    "\n",
    "\n",
    "def split_waveform_by_timestamps(input_file, output_dir, timestamps):\n",
    "    mono_waveform, sample_rate = torchaudio.load(input_file)\n",
    "    os.makedirs(output_dir, exist_ok=True)\n",
    "\n",
    "    for i, (start, end, speaker) in enumerate(timestamps):\n",
    "        start_frame = int(start * sample_rate)\n",
    "        end_frame = int(end * sample_rate)\n",
    "        segment = mono_waveform[0:, start_frame:end_frame]\n",
    "        output_file = os.path.join(output_dir, f\"{start}_{end}_{speaker}.wav\")\n",
    "\n",
    "        torchaudio.save(output_file, segment, sample_rate)\n",
    "\n",
    "\n",
    "def aggregate_timestamps(timestamps):\n",
    "    aggregated = []\n",
    "    previous = timestamps[0]\n",
    "    for timestamp in timestamps:\n",
    "        start, end, speaker = timestamp\n",
    "        prevstart, prevend, prevspeaker = previous\n",
    "        if speaker == prevspeaker:\n",
    "            previous = (prevstart, end, speaker)\n",
    "        else:\n",
    "            aggregated.append(previous)\n",
    "            previous = timestamp\n",
    "    return aggregated\n",
    "\n",
    "\n",
    "def timeToSeconds(time):\n",
    "    hhmmss = time.split(\",\")[0]\n",
    "    ms = time.split(\",\")[1]\n",
    "    hh = hhmmss.split(\":\")[0]\n",
    "    mm = hhmmss.split(\":\")[1]\n",
    "    ss = hhmmss.split(\":\")[2]\n",
    "    seconds = timedelta(\n",
    "        hours=int(hh), minutes=int(mm), seconds=int(ss), milliseconds=int(ms)\n",
    "    )\n",
    "    return seconds.total_seconds()"
   ]
  },
  {
   "cell_type": "code",
   "execution_count": 22,
   "metadata": {},
   "outputs": [
    {
     "data": {
      "text/plain": [
       "['1', '00:00:06,540 --> 00:00:06,067', 'Speaker 1: Hello.']"
      ]
     },
     "execution_count": 22,
     "metadata": {},
     "output_type": "execute_result"
    }
   ],
   "source": [
    "ROOT = os.getcwd()\n",
    "\n",
    "sample_wav = \"001_-_Scrambling_Eggs.wav\"\n",
    "\n",
    "sample_src = os.path.join(ROOT, \"sample\", \"001_-_Scrambling_Eggs.srt\")\n",
    "\n",
    "subtitles = (\n",
    "    open(sample_src, encoding=\"utf-8-sig\").read().replace(\"\\n\\n\", \"\\n\").splitlines()\n",
    ")\n",
    "\n",
    "subtitles[0:3]"
   ]
  },
  {
   "cell_type": "code",
   "execution_count": 24,
   "metadata": {},
   "outputs": [],
   "source": [
    "timestamps = []\n",
    "speech = []\n",
    "arrow = \" --> \"\n",
    "for line in subtitles:\n",
    "    if arrow in line:\n",
    "        timestamps.append((line.split(arrow)[0], line.split(arrow)[1]))\n",
    "    if \": \" in line:\n",
    "        speech.append((line.split(\": \")[0], line.split(\": \")[1]))"
   ]
  },
  {
   "cell_type": "code",
   "execution_count": 25,
   "metadata": {},
   "outputs": [],
   "source": [
    "# split wav matches .txt/.srt file\n",
    "# split using json matches embeddings\n",
    "\n",
    "transcripts = [\n",
    "    (timeToSeconds(start), timeToSeconds(end), speaker)\n",
    "    for (((start, end)), ((speaker, text))) in zip(timestamps, speech)\n",
    "]\n",
    "\n",
    "aggregated = aggregate_timestamps(transcripts)\n",
    "\n",
    "split_waveform_by_timestamps(sample_wav, \"segments\", aggregated)"
   ]
  }
 ],
 "metadata": {
  "kernelspec": {
   "display_name": "Python 3",
   "language": "python",
   "name": "python3"
  },
  "language_info": {
   "codemirror_mode": {
    "name": "ipython",
    "version": 3
   },
   "file_extension": ".py",
   "mimetype": "text/x-python",
   "name": "python",
   "nbconvert_exporter": "python",
   "pygments_lexer": "ipython3",
   "version": "3.12.3"
  }
 },
 "nbformat": 4,
 "nbformat_minor": 2
}
